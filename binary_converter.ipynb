{
  "nbformat": 4,
  "nbformat_minor": 0,
  "metadata": {
    "colab": {
      "name": "binary_converter.ipynb",
      "provenance": [],
      "authorship_tag": "ABX9TyNQm4r6UHRKdtnW0lA+SlYu",
      "include_colab_link": true
    },
    "kernelspec": {
      "name": "python3",
      "display_name": "Python 3"
    }
  },
  "cells": [
    {
      "cell_type": "markdown",
      "metadata": {
        "id": "view-in-github",
        "colab_type": "text"
      },
      "source": [
        "<a href=\"https://colab.research.google.com/github/etang9/storytelling-with-data/blob/master/binary_converter.ipynb\" target=\"_parent\"><img src=\"https://colab.research.google.com/assets/colab-badge.svg\" alt=\"Open In Colab\"/></a>"
      ]
    },
    {
      "cell_type": "code",
      "metadata": {
        "id": "5XnfxGHfP7Qw",
        "colab_type": "code",
        "colab": {}
      },
      "source": [
        "def increment (b):\n",
        "  y = ''\n",
        "  incremented = False\n",
        "  for x in b[len(b)::-1]:\n",
        "    if incremented:\n",
        "      y = x + y\n",
        "    elif not incremented:\n",
        "      if x == '1':\n",
        "        y = '0' + y\n",
        "      elif x == '0':\n",
        "        y = '1' + y\n",
        "        incremented = True\n",
        "  if not incremented:\n",
        "    y = '1' + y\n",
        "  return y\n",
        "\n"
      ],
      "execution_count": 0,
      "outputs": []
    },
    {
      "cell_type": "code",
      "metadata": {
        "id": "zzKdtmuxRXzz",
        "colab_type": "code",
        "colab": {}
      },
      "source": [
        "import math\n",
        "def convert(n):\n",
        "  assert n >= 0, 'n cannot be negative'\n",
        "  assert n % 1 == 0, 'n has to be an integer'\n",
        "  n = math.ceil(n)\n",
        "  g = str(0)\n",
        "  for i in range(n):\n",
        "    g = increment (g)\n",
        "  return(g)"
      ],
      "execution_count": 0,
      "outputs": []
    },
    {
      "cell_type": "code",
      "metadata": {
        "id": "NpajNGViRlzy",
        "colab_type": "code",
        "colab": {
          "base_uri": "https://localhost:8080/",
          "height": 34
        },
        "outputId": "b63acc33-910a-4da5-9290-b50aaea5c7bc"
      },
      "source": [
        "convert(10)"
      ],
      "execution_count": 30,
      "outputs": [
        {
          "output_type": "execute_result",
          "data": {
            "text/plain": [
              "'1010'"
            ]
          },
          "metadata": {
            "tags": []
          },
          "execution_count": 30
        }
      ]
    },
    {
      "cell_type": "code",
      "metadata": {
        "id": "M72fFTYPW3m6",
        "colab_type": "code",
        "colab": {
          "base_uri": "https://localhost:8080/",
          "height": 51
        },
        "outputId": "dca8124f-6d46-48d7-a41d-312be10187bc"
      },
      "source": [
        "#spot checks\n",
        "assert convert(0) == '0', 'failed to convert 0 correctly'\n",
        "assert convert(1) == '1', 'failed to convert 1 correctly'\n",
        "assert convert(2) == '10', 'failed to convert 2 correctly'\n",
        "assert convert(4) == '100', 'failed to convert 4 correctly'\n",
        "assert convert(10) == '1010', 'failed to convert 10 correctly'\n",
        "assert convert(100) == '1100100', 'failed to convert 100 correctly'\n",
        "print('spot checks passed!')\n",
        "\n",
        "#edge cases\n",
        "assert convert(10.00) == '1010', 'failed to handle floats (case 1)'\n",
        "assert convert(3.14 - 0.14) == '11', 'failed to handle floats (case 2)'\n",
        "print('edge cases passed!')"
      ],
      "execution_count": 29,
      "outputs": [
        {
          "output_type": "stream",
          "text": [
            "spot checks passed!\n",
            "edge cases passed!\n"
          ],
          "name": "stdout"
        }
      ]
    }
  ]
}